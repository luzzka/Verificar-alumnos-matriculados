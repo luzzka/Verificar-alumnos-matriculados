{
 "cells": [
  {
   "cell_type": "code",
   "execution_count": null,
   "id": "d13896be",
   "metadata": {},
   "outputs": [],
   "source": [
    "print(\"algooo\")"
   ]
  }
 ],
 "metadata": {
  "kernelspec": {
   "display_name": "Python 3",
   "language": "python",
   "name": "python3"
  },
  "language_info": {
   "name": "python",
   "version": "3.13.2"
  }
 },
 "nbformat": 4,
 "nbformat_minor": 5
}
